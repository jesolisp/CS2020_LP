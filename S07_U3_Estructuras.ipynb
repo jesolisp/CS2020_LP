{
 "cells": [
  {
   "cell_type": "markdown",
   "metadata": {},
   "source": [
    "![logoupemor](pictures/UPE_Firma_vert_morada-01.png)\n",
    "\n",
    "---"
   ]
  },
  {
   "cell_type": "markdown",
   "metadata": {},
   "source": [
    "# Lógica de programación\n",
    "## Curso de Selección 2020\n",
    "\n",
    "### Profr. Jesús Emmanuel Solís Pérez (jsolis@upemor.edu.mx)\n",
    "---"
   ]
  },
  {
   "cell_type": "markdown",
   "metadata": {},
   "source": [
    "# Unidad III. Estructuras de control\n",
    "\n",
    "\n",
    "## Contenido\n",
    "- Estructuras de selección\n",
    "- Pseudocódigo y diagrama de flujo"
   ]
  },
  {
   "cell_type": "markdown",
   "metadata": {},
   "source": [
    "# Estructuras de control\n",
    "\n",
    "Son aquellas que nos permiten controlar el flujo de un programa y básicamente las podemos clasificar en dos tipos:\n",
    "\n",
    "\n",
    "## Condicionales\n",
    "\n",
    "### La sentencia de selección `if( )`\n",
    "\n",
    "Considerada por algunos programadores como la estructura de control fundamental. Su sintaxis en Python es:\n",
    "\n",
    "~~~\n",
    "if(condicion):\n",
    "    sentencias\n",
    "~~~\n",
    "\n",
    "**Nota 1.** Los paréntesis que encierran la condición que será evaluada son obligatorios.\n",
    "\n",
    "#### Representación en diagrama de flujo\n",
    "\n",
    "![if](pictures/if.png)"
   ]
  },
  {
   "cell_type": "markdown",
   "metadata": {},
   "source": [
    "### La sentencia de selección `if( )... else`\n",
    "\n",
    "~~~\n",
    "if(condicion):\n",
    "    sentencias_si\n",
    "else:\n",
    "    sentencias_no\n",
    "~~~\n",
    "\n",
    "#### Representación en diagrama de flujo\n",
    "\n",
    "![if](pictures/if_else.png)\n",
    "\n",
    "~~~\n",
    "if(condicion):\n",
    "    sentencias_si\n",
    "    \n",
    "elif(condicion_2):\n",
    "    sentencias_si2\n",
    "else:\n",
    "    sentencias_no\n",
    "~~~\n",
    "\n",
    "#### Representación en diagrama de flujo\n",
    "\n",
    "![if](pictures/if_else_if.png)"
   ]
  },
  {
   "cell_type": "markdown",
   "metadata": {},
   "source": [
    "## Ejercicios de expresiones\n",
    "\n",
    "El estudiante convierte las siguientes expresiones a expresiones logarítmicas\n",
    "\n",
    "1. $\\left(\\frac{1}{4}\\right)$\n",
    "2. $\\left(\\frac{1}{4}\\right)^3$\n",
    "3. $(a + b)(a - b)$\n",
    "4. $(a - b)^2$\n",
    "5. $(5x^3 + 2x^2-6)$\n",
    "6. $IMC = \\frac{Peso\\ en\\ Kg}{(Estatura\\ en\\ metros)^{2}}$\n",
    "7. $x = \\frac{-b\\pm \\sqrt{b^2 - 4ac}}{2a}$"
   ]
  },
  {
   "cell_type": "markdown",
   "metadata": {},
   "source": [
    "## Ejercicios\n",
    "1. Diseñe un programa que, dada la edad de una persona, muestre en pantalla si es mayor de edad\n",
    "2. Diseñe un programa que, dada la edad de una persona, muestre en pantalla si es mayor de edad. En caso contrario, mostrar es menor de edad.\n",
    "3. Diseñe un programa que lea dos números enteros $a$ y $b$ y muestre en pantalla el mensaje que esté acorde a su evaluación:\n",
    "    * El segundo es el cuadrado exacto del primero.\n",
    "    * El segundo es menor que el cuadrado del primero.\n",
    "    * El segundo es mayor que el cuadrado del primero.\n",
    "4. Diseñe un programa que, dado el **peso** y la **estatura** de una persona calcule su Índice de Masa Corporal **(IMC)**\n",
    "\n",
    "$$\n",
    " IMC = \\frac{Peso\\ en\\ Kg}{(Estatura\\ en\\ metros)^{2}}\n",
    "$$\n",
    "\n",
    "e indique su estado de acuerdo con la siguiente tabla\n",
    "\n",
    "|    IMC    | Nivel de peso |\n",
    "|:---------:|:-------------:|\n",
    "| <18.5     | Bajo peso     |\n",
    "| 18.5-24.9 | Normal        |\n",
    "| 25.0-29.9 | Sobrepeso     |\n",
    "| 30 o más  | Obeso         |"
   ]
  },
  {
   "cell_type": "markdown",
   "metadata": {},
   "source": [
    "## Videos complementarios\n",
    "1. [Estructuras selectivas](https://www.youtube.com/watch?v=XHWgn5qcPvM)\n",
    "2. [Estructuras selectivas, definición](https://youtu.be/M13eq6T-2Nc)\n",
    "3. [Estructuras selectivas, if, else](https://youtu.be/hY-HYXMdGzg)\n",
    "4. [Estructuras selectivas,if,if...then](https://youtu.be/5EBwwN7JJ3Y)\n",
    "5. [Estructuras selectivas,if,if...then](https://youtu.be/jSrUI-4WuRY)\n",
    "6. [Estructuras selectivas, simples, dobles y múltiples](https://youtu.be/apcIsaX3aDg)"
   ]
  },
  {
   "cell_type": "markdown",
   "metadata": {},
   "source": [
    "# Material de consulta\n",
    "\n",
    "1. Sandoval, A. B. (2002). Introduccion a la programacion con python. *Pontificia Universidad Bolivariana*.\n",
    "2. Wachenchauzer, R., Manterola, M., Curia, M., Medrano, M., & Paez, N. (2011). Algoritmos y Programación con lenguaje Python."
   ]
  }
 ],
 "metadata": {
  "kernelspec": {
   "display_name": "Python 3",
   "language": "python",
   "name": "python3"
  },
  "language_info": {
   "codemirror_mode": {
    "name": "ipython",
    "version": 3
   },
   "file_extension": ".py",
   "mimetype": "text/x-python",
   "name": "python",
   "nbconvert_exporter": "python",
   "pygments_lexer": "ipython3",
   "version": "3.8.5"
  }
 },
 "nbformat": 4,
 "nbformat_minor": 4
}
