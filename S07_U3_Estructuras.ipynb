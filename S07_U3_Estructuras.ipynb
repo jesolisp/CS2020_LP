{
 "cells": [
  {
   "cell_type": "markdown",
   "metadata": {},
   "source": [
    "![logoupemor](pictures/UPE_Firma_vert_morada-01.png)\n",
    "\n",
    "---"
   ]
  },
  {
   "cell_type": "markdown",
   "metadata": {},
   "source": [
    "# Lógica de programación\n",
    "## Curso de Selección 2020\n",
    "\n",
    "### Profr. Jesús Emmanuel Solís Pérez (jsolis@upemor.edu.mx)\n",
    "---"
   ]
  },
  {
   "cell_type": "markdown",
   "metadata": {},
   "source": [
    "# Unidad III. Estructuras de control\n",
    "\n",
    "\n",
    "## Contenido\n",
    "- Estructuras de selección\n",
    "- Pseudocódigo y diagrama de flujo"
   ]
  },
  {
   "cell_type": "markdown",
   "metadata": {},
   "source": [
    "# Estructuras de control\n",
    "\n",
    "Son aquellas que nos permiten controlar el flujo de un programa y básicamente las podemos clasificar en dos tipos:\n",
    "\n",
    "\n",
    "## Condicionales\n",
    "\n",
    "### La sentencia de selección `if( )`\n",
    "\n",
    "Considerada por algunos programadores como la estructura de control fundamental. Su sintaxis en Python es:\n",
    "\n",
    "~~~\n",
    "if(condicion):\n",
    "    sentencias\n",
    "~~~\n",
    "\n",
    "**Nota 1.** Los paréntesis que encierran la condición que será evaluada son obligatorios.\n",
    "\n",
    "#### Representación en diagrama de flujo\n",
    "\n",
    "![if](pictures/if.png)"
   ]
  },
  {
   "cell_type": "markdown",
   "metadata": {},
   "source": [
    "### La sentencia de selección `if( )... else`\n",
    "\n",
    "~~~\n",
    "if(condicion):\n",
    "    sentencias_si\n",
    "else:\n",
    "    sentencias_no\n",
    "~~~\n",
    "\n",
    "#### Representación en diagrama de flujo\n",
    "\n",
    "![if](pictures/if_else.png)\n",
    "\n",
    "~~~\n",
    "if(condicion):\n",
    "    sentencias_si\n",
    "    \n",
    "elif(condicion_2):\n",
    "    sentencias_si2\n",
    "else:\n",
    "    sentencias_no\n",
    "~~~\n",
    "\n",
    "#### Representación en diagrama de flujo\n",
    "\n",
    "![if](pictures/if_else_if.png)"
   ]
  },
  {
   "cell_type": "markdown",
   "metadata": {},
   "source": [
    "## Ejercicios de expresiones\n",
    "\n",
    "El estudiante convierte las siguientes expresiones a expresiones logarítmicas\n",
    "\n",
    "1. $\\left(\\frac{1}{4}\\right) \\rightarrow (1/4)$\n",
    "2. $\\left(\\frac{1}{4}\\right)^3 \\rightarrow \\left(1/4\\right)*\\left(1/4\\right)*\\left(1/4\\right)$\n",
    "3. $(a + b)(a - b)$\n",
    "4. $(a - b)^2$\n",
    "5. $(5x^3 + 2x^2-6)$\n",
    "6. $IMC = \\frac{Peso\\ en\\ Kg}{(Estatura\\ en\\ metros)^{2}} \\rightarrow IMC = peso/(estatura*estatura)$\n",
    "7. $x = \\frac{-b\\pm \\sqrt{b^2 - 4ac}}{2a}$ Considere que $\\sqrt{}$ está definido en expresión logarítmica como `sqrt()` y que $\\sqrt[n]{a^{m}} = a^{\\frac{m}{n}}$\n",
    "    * `x1 = (-b + sqrt(b*b - 4*a*c))/(2*a)`\n",
    "    * `x1 = (-b + (b*b - 4*a*c))*((-b + (b*b - 4*a*c))*(1/2))/(2*a)`\n",
    "    * `x1 = (-b + pow(b*b - 4*a*c,1/2))/(2*a)`"
   ]
  },
  {
   "cell_type": "markdown",
   "metadata": {},
   "source": [
    "# Pseudocódigo\n",
    "¿Qué es?\n",
    "Código falso\n",
    "* No hay reglas definidas para su creación\n",
    "* Se sugiere que éste sea lo más cercano a un lenguaje de programación\n",
    "\n",
    "## Prueba de escritorio\n",
    "Es la forma básica de probar el funcionamiento de un programa expresado en diagrama de flujo, pseudocódigo o algoritmo."
   ]
  },
  {
   "cell_type": "markdown",
   "metadata": {},
   "source": [
    "## Ejercicios\n",
    "1. Diseñe un programa que, dada la edad de una persona, muestre en pantalla si es mayor de edad\n",
    "2. Diseñe un programa que, dada la edad de una persona, muestre en pantalla si es mayor de edad. En caso contrario, mostrar es menor de edad.\n",
    "3. Diseñe un programa que lea dos números enteros $a$ y $b$ y muestre en pantalla el mensaje que esté acorde a su evaluación:\n",
    "    * El segundo es el cuadrado exacto del primero.\n",
    "    * El segundo es menor que el cuadrado del primero.\n",
    "    * El segundo es mayor que el cuadrado del primero.\n",
    "4. Diseñe un programa que, dado el **peso** y la **estatura** de una persona calcule su Índice de Masa Corporal **(IMC)**\n",
    "\n",
    "$$\n",
    " IMC = \\frac{Peso\\ en\\ Kg}{(Estatura\\ en\\ metros)^{2}}\n",
    "$$\n",
    "\n",
    "e indique su estado de acuerdo con la siguiente tabla\n",
    "\n",
    "|    IMC    | Nivel de peso |\n",
    "|:---------:|:-------------:|\n",
    "| <18.5     | Bajo peso     |\n",
    "| 18.5-24.9 | Normal        |\n",
    "| 25.0-29.9 | Sobrepeso     |\n",
    "| 30 o más  | Obeso         |"
   ]
  },
  {
   "cell_type": "code",
   "execution_count": null,
   "metadata": {},
   "outputs": [],
   "source": [
    "# 1. Diseñe un programa que, dada la edad de una persona, \n",
    "# muestre en pantalla si es mayor de edad\n",
    "# \n",
    "# edad\n",
    "# comparar edad>=18\n",
    "# mostrar \"es mayor de edad\""
   ]
  },
  {
   "cell_type": "markdown",
   "metadata": {},
   "source": [
    "## Algoritmo\n",
    "1. Declarar variable `edad`\n",
    "2. Leer `edad = 23`\n",
    "3. Si `edad>=18` entonces ir al paso 4\n",
    "4. Mostrar `Es mayor de edad`"
   ]
  },
  {
   "cell_type": "markdown",
   "metadata": {},
   "source": [
    "## Diagrama de flujo\n",
    "![solucion1](pictures/solucion1.png)"
   ]
  },
  {
   "cell_type": "markdown",
   "metadata": {},
   "source": [
    "## Pseudocódigo\n",
    "~~~\n",
    "edad = 23\n",
    "\n",
    "if(edad>=18):\n",
    "    print(\"Es mayor de edad\") \n",
    "~~~"
   ]
  },
  {
   "cell_type": "code",
   "execution_count": null,
   "metadata": {},
   "outputs": [],
   "source": [
    "# Diseñe un programa que, dada la edad de una persona, muestre en pantalla si es mayor de edad. En caso contrario,\n",
    "# mostrar es menor de edad.\n",
    "# \n",
    "# edad\n",
    "# comparar edad>=18\n",
    "# mostrar \"es mayor de edad\"\n",
    "# mostrar \"es menor de edad\""
   ]
  },
  {
   "cell_type": "markdown",
   "metadata": {},
   "source": [
    "## Algoritmo\n",
    "1. Declarar variable `edad`\n",
    "2. Leer `edad = 23`\n",
    "3. Si `edad>=18` entonces ir al paso 4 sino ir al paso 5\n",
    "4. Mostrar `Es mayor de edad`, e ir al paso 6\n",
    "5. Mostrar `Es menor de edad`\n",
    "6. Fin del programa"
   ]
  },
  {
   "cell_type": "markdown",
   "metadata": {},
   "source": [
    "## Diagrama de flujo\n",
    "![solucion1](pictures/solucion2.png)"
   ]
  },
  {
   "cell_type": "markdown",
   "metadata": {},
   "source": [
    "## Pseudocódigo\n",
    "~~~\n",
    "edad = 13\n",
    "\n",
    "if(edad>=18):\n",
    "    print(\"Es mayor de edad\")\n",
    "else:\n",
    "    print(\"Es menor de edad\")\n",
    "~~~"
   ]
  },
  {
   "cell_type": "code",
   "execution_count": null,
   "metadata": {},
   "outputs": [],
   "source": [
    "# 3. Diseñe un programa que lea dos números enteros  𝑎  y  𝑏  y\n",
    "# muestre en pantalla el mensaje que esté acorde a su evaluación:\n",
    "#\n",
    "# El segundo es el cuadrado exacto del primero.\n",
    "# El segundo es menor que el cuadrado del primero.\n",
    "# El segundo es mayor que el cuadrado del primero.\n",
    "#\n",
    "# a, b\n",
    "# comparar cuadrado del primero es igual al segundo\n",
    "# comparar cuadrado del primero es mayor al segundo\n",
    "# comparar cuadrado del primero es menor al segundo\n",
    "# Mensajes de evaluación"
   ]
  },
  {
   "cell_type": "markdown",
   "metadata": {},
   "source": [
    "## Algoritmo\n",
    "1. Declarar las variables `a`, `b`\n",
    "2. Leer `a=1`\n",
    "3. Leer `b=2`\n",
    "4. Si `(b == a*a)` entonces ir al paso `7` sino ir al paso `5`\n",
    "5. Si `(b < a*a)` entonces ir al paso `8` sino ir al paso `6`\n",
    "6. Si `(b > a*a)` entonces ir al paso `9` sino ir al paso `10`\n",
    "7. Mostrar `El segundo es el cuadrado exacto del primero.` e ir al paso `10`\n",
    "8. Mostrar `El segundo es menor que el cuadrado del primero.` e ir al paso `10`\n",
    "9. Mostrar `El segundo es mayor que el cuadrado del primero.` e ir al paso `10`\n",
    "10. Finaliza el programa"
   ]
  },
  {
   "cell_type": "markdown",
   "metadata": {},
   "source": [
    "## Pseudocódigo\n",
    "~~~\n",
    "a = 1\n",
    "b = -2\n",
    "if(b == a*a):\n",
    "    print(\"El segundo es el cuadrado exacto del primero.\")\n",
    "elif(b < a*a):\n",
    "    print(\"El segundo es menor que el cuadrado del primero.\")\n",
    "elif(b > a*a):\n",
    "    print(\"El segundo es mayor que el cuadrado del primero.\")\n",
    "~~~"
   ]
  },
  {
   "cell_type": "code",
   "execution_count": null,
   "metadata": {},
   "outputs": [],
   "source": [
    "# Diseñe un programa que, dado el peso y la estatura de una persona calcule su Índice de Masa Corporal (IMC)\n",
    "# peso, estatura\n",
    "# Calcular IMC\n",
    "# Mostrar mensajes de \"Nivel de peso\"\n",
    "\n",
    "peso = \n",
    "estatura =\n",
    "\n",
    "IMC = peso/(estatura*estatura)\n",
    "\n",
    "if(IMC < 18.5):\n",
    "    print(\"Bajo peso\")\n",
    "    \n",
    "if(IMC >= 30):\n",
    "    print(\"Obeso\")\n",
    "    \n",
    "if(IMC>=18.5):\n",
    "    if(IMC<=24.9):\n",
    "        print(\"Normal\")\n",
    "        \n",
    "if( (25.0 <= IMC) && (IMC <= 30) ):\n",
    "    print(\"Sobrepeso\")"
   ]
  },
  {
   "cell_type": "markdown",
   "metadata": {},
   "source": [
    "|    IMC    | Nivel de peso |\n",
    "|:---------:|:-------------:|\n",
    "| <18.5     | Bajo peso     |\n",
    "| 18.5-24.9 | Normal        |\n",
    "| 25.0-29.9 | Sobrepeso     |\n",
    "| 30 o más  | Obeso         |\n",
    "\n",
    "$$\n",
    " 25.0 \\leq IMC \\leq 29.9\n",
    "$$"
   ]
  },
  {
   "cell_type": "markdown",
   "metadata": {},
   "source": [
    "## Videos complementarios\n",
    "1. [Estructuras selectivas](https://www.youtube.com/watch?v=XHWgn5qcPvM)\n",
    "2. [Estructuras selectivas, definición](https://youtu.be/M13eq6T-2Nc)\n",
    "3. [Estructuras selectivas, if, else](https://youtu.be/hY-HYXMdGzg)\n",
    "4. [Estructuras selectivas,if,if...then](https://youtu.be/5EBwwN7JJ3Y)\n",
    "5. [Estructuras selectivas,if,if...then](https://youtu.be/jSrUI-4WuRY)\n",
    "6. [Estructuras selectivas, simples, dobles y múltiples](https://youtu.be/apcIsaX3aDg)"
   ]
  },
  {
   "cell_type": "markdown",
   "metadata": {},
   "source": [
    "# Material de consulta\n",
    "\n",
    "1. Sandoval, A. B. (2002). Introduccion a la programacion con python. *Pontificia Universidad Bolivariana*.\n",
    "2. Wachenchauzer, R., Manterola, M., Curia, M., Medrano, M., & Paez, N. (2011). Algoritmos y Programación con lenguaje Python."
   ]
  }
 ],
 "metadata": {
  "kernelspec": {
   "display_name": "Python 3",
   "language": "python",
   "name": "python3"
  },
  "language_info": {
   "codemirror_mode": {
    "name": "ipython",
    "version": 3
   },
   "file_extension": ".py",
   "mimetype": "text/x-python",
   "name": "python",
   "nbconvert_exporter": "python",
   "pygments_lexer": "ipython3",
   "version": "3.8.5"
  }
 },
 "nbformat": 4,
 "nbformat_minor": 4
}
