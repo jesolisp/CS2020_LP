{
 "cells": [
  {
   "cell_type": "markdown",
   "metadata": {},
   "source": [
    "![logoupemor](pictures/UPE_Firma_vert_morada-01.png)\n",
    "\n",
    "---"
   ]
  },
  {
   "cell_type": "markdown",
   "metadata": {},
   "source": [
    "# Lógica de programación\n",
    "## Curso de Selección 2020\n",
    "\n",
    "### Profr. Jesús Emmanuel Solís Pérez (jsolis@upemor.edu.mx)\n",
    "---"
   ]
  },
  {
   "cell_type": "markdown",
   "metadata": {},
   "source": [
    "# Unidad I. Resolución de problemas usando una computadora\n",
    "\n",
    "\n",
    "## Contenido\n",
    "- Conceptos básicos\n",
    "- Metodología para la solución de problemas"
   ]
  },
  {
   "cell_type": "markdown",
   "metadata": {},
   "source": [
    "## Cuadro mágico\n",
    "\n",
    "Utiliza los dígitos del 1 al 9 para llenar el cuadro siguiente de modo que la suma de cada fila y cada columna así como las dos diagonales den el mismo resultado\n",
    "\n",
    "![cuadro_magico](pictures/cuadro_magico.png)"
   ]
  },
  {
   "cell_type": "code",
   "execution_count": 4,
   "metadata": {},
   "outputs": [
    {
     "name": "stdout",
     "output_type": "stream",
     "text": [
      "Countdown finished\n"
     ]
    }
   ],
   "source": [
    "from time import sleep\n",
    "\n",
    "for i in range(0,300):\n",
    "    sleep(1)\n",
    "    \n",
    "print(\"Countdown finished\")"
   ]
  },
  {
   "cell_type": "markdown",
   "metadata": {},
   "source": [
    "### Solución\n",
    "4 9 2\n",
    "\n",
    "3 5 7\n",
    "\n",
    "8 1 6"
   ]
  },
  {
   "cell_type": "markdown",
   "metadata": {},
   "source": [
    "## Preguntas\n",
    "\n",
    "1. ¿Cuál fue la solución encontrada?\n",
    "2. ¿Fue correcta?\n",
    "3. ¿Cómo demuestras que tu solución es correcta?\n",
    "4. ¿Cuál fue el proceso que realizaste para obtener la solución?\n",
    "5. ¿Cómo le explicarı́as a alguien el proceso de solución que encontraste?\n",
    "6. ¿Puedes escribir el proceso de solución que realizaste?"
   ]
  },
  {
   "cell_type": "markdown",
   "metadata": {},
   "source": [
    "## Metodología para la solución de problemas"
   ]
  },
  {
   "cell_type": "markdown",
   "metadata": {},
   "source": [
    "### 1. Descripción del problema\n",
    "Necesitamos identificar el problema a resolver.\n",
    "\n",
    "   * **¿Qué?** La respuesta a esta pregunta nos arroja una descripción general del problema.\n",
    "    \n",
    "### 2. Definición de la solución\n",
    "Se analiza el problema a fondo planteando las siguientes preguntas\n",
    "   * **¿Cómo?** La respuesta a esta pregunta nos permite plantear alternativas para resolver el problema así como decidir qué datos serán ingresados y procesados para transformarlos en información.\n",
    "   \n",
    "### 3. Diseño de la solución\n",
    "Se diseña la lógica de la solución modelando y desarrollando algoritmos que permitirán resolver el problema.\n",
    "\n",
    "   * **¿Con qué?** La respuesta a esta pregunta nos permitirá elegir entre *Lenguaje Unificado de Modelado*, *Pseudocógicos o Diagramas de Flujo*.\n",
    "   \n",
    "### 4. Desarrollo de la solución\n",
    "\n",
    "Es el proceso de codificación del problema en algún lenguaje de programación. Durante esta tarea se traducen los diagramas de flujo, algoritmos o pseudocógicos a sentencias del lenguaje de programación determinado.\n",
    "\n",
    "### 5. Depuración y pruebas\n",
    "\n",
    "El arte de programar no está exento de **defectos** o **errores de programación (bugs)**. El proceso de encontrarlos y corregirlos es llamado **depuración**.\n",
    "\n",
    "![bug](pictures/bug.jpg)\n",
    "\n",
    "Nuestros programas pueden tener alguno de los siguientes errores:\n",
    "\n",
    "1. **Errores sintácticos**\n",
    "\n",
    "Son aquellos que se presentan cuando el programa no cumple con las reglas establecidas en el lenguaje de programación utilizado. Dicho de otra forma, son quellas instrucciones que no están escritas correctamente.\n",
    "\n",
    "![sintaxis](pictures/sintaxis.jpg)\n",
    "\n",
    "2. **Errores en tiempo de ejecución**\n",
    "\n",
    "Aparecen cuando nuestro programa es ejecutado y ocurrió algo *excepcional (extraordinario)*.\n",
    "\n",
    "![ejecucion](pictures/ejecucion.jpg)\n",
    "\n",
    "3. **Errores semánticos**\n",
    "\n",
    "Son más comúnes de lo que uno cree y cuando se presentan solemos echarle la culpa a la computadora. \n",
    "Son difíciles de rastrear puesto que se analiza lo que obtenemos a la salida y regresamos a preguntarnos por qué lo obtenemos.\n",
    "\n",
    "Hablando más formalmente, son errores de lógica en los programas y provocan un resultado no deseado aún cuando se ejecute un programa sin ningún mensaje de error.\n",
    "\n",
    "![mono](pictures/mono.jpg)\n",
    "\n",
    "### 6. Documentación\n",
    "\n",
    "Se recopila toda la documentación generada en todas cinco etapas anteriores y serán de vital importancia para elaborar un manual técnico.\n",
    "\n",
    "![programar_estresante](pictures/programar_estresante.jpg)"
   ]
  },
  {
   "cell_type": "markdown",
   "metadata": {},
   "source": [
    "Encontrar el factorial de un número $n$\n",
    "\n",
    "1. Caso ideal, $2!$\n",
    "2. Peor de los casos, $0!$\n",
    "3. Caso genérico, $n!$"
   ]
  },
  {
   "cell_type": "markdown",
   "metadata": {},
   "source": [
    "## Ejercicios de clase\n",
    "\n",
    "1. Describa cómo ordenar tres números a, b y c.\n",
    "2. Describa cómo encontrar el menor elemento en un conjunto de números.\n",
    "3. Describa cómo encontrar una palabra dentro de un texto más largo."
   ]
  },
  {
   "cell_type": "markdown",
   "metadata": {},
   "source": [
    "# Material de consulta\n",
    "\n",
    "1. Cueto, J. J. F. (2014). *METODO DE LAS 6'D-modelacion, algoritmo, programacion (Vol. 2)*. Editorial Macro.\n",
    "2. Flores Cueto, J. J. (2003). *Método para la solución de problemas utilizando la Programación Orientada a Objetos*. Burgos: Universidad de San Martín de Porres."
   ]
  }
 ],
 "metadata": {
  "kernelspec": {
   "display_name": "Python 3",
   "language": "python",
   "name": "python3"
  },
  "language_info": {
   "codemirror_mode": {
    "name": "ipython",
    "version": 3
   },
   "file_extension": ".py",
   "mimetype": "text/x-python",
   "name": "python",
   "nbconvert_exporter": "python",
   "pygments_lexer": "ipython3",
   "version": "3.8.5"
  }
 },
 "nbformat": 4,
 "nbformat_minor": 4
}
