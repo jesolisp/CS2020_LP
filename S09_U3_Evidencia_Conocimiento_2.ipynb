{
 "cells": [
  {
   "cell_type": "markdown",
   "metadata": {},
   "source": [
    "![logoupemor](pictures/UPE_Firma_vert_morada-01.png)\n",
    "\n",
    "---"
   ]
  },
  {
   "cell_type": "markdown",
   "metadata": {},
   "source": [
    "# Lógica de programación\n",
    "## Curso de Selección 2020\n",
    "\n",
    "### Profr. Jesús Emmanuel Solís Pérez (jsolis@upemor.edu.mx)\n",
    "---"
   ]
  },
  {
   "cell_type": "markdown",
   "metadata": {},
   "source": [
    ">>> # Evidencia de Conocimiento 2 (EC2)"
   ]
  },
  {
   "cell_type": "markdown",
   "metadata": {},
   "source": [
    "# Pregunta\n",
    "Pedro Picapiedra tiene que calcular el número de CDs necesarios para hacer una copia de seguridad ya que su disco duro de 80GB se encuentra lleno. Como su computadora aún tiene lector de CD y en un rincón tiene una torre de CDs virgen, piensa darle uso a tales elementos para hacer su respaldo. Considere que un CD tiene 700 MB y un GB es igual a 1024 MB. ¿Cuál es el diagrama de flujo que permite resolver este problema?"
   ]
  },
  {
   "cell_type": "markdown",
   "metadata": {},
   "source": [
    "## Opción 1\n",
    "![opcion1_ej1](pictures/opcion1_ej1.png)\n",
    "\n",
    "## Opción 2\n",
    "![opcion2_ej1](pictures/opcion2_ej1.png)\n",
    "\n",
    "## Opción 3\n",
    "![opcion3_ej1](pictures/opcion3_ej1.png)\n",
    "\n",
    "## Opción 4\n",
    "![opcion4_ej1](pictures/opcion4_ej1.png)"
   ]
  },
  {
   "cell_type": "markdown",
   "metadata": {},
   "source": [
    "# Pregunta\n",
    "Cosme Fulanito, estudiante de Ingeniería en Tecnologías, tiene que calcular las raíces de una ecuación cuadrática para su clase de cálculo. Para ello, tiene que hacer un proyecto integrador que le permita resolver este problema. ¿Cuál es el diagrama de flujo que le permite calcular dichas raíces? Suponga que los datos ingresados no generan raíces imaginarias."
   ]
  },
  {
   "cell_type": "markdown",
   "metadata": {},
   "source": [
    "## Opción 1\n",
    "![opcion1_ej2](pictures/opcion1_ej2.png)\n",
    "\n",
    "## Opción 2\n",
    "![opcion2_ej2](pictures/opcion2_ej2.png)\n",
    "\n",
    "## Opción 3\n",
    "![opcion3_ej2](pictures/opcion3_ej2.png)\n",
    "\n",
    "## Opción 4\n",
    "![opcion4_ej2](pictures/opcion4_ej2.png)"
   ]
  },
  {
   "cell_type": "markdown",
   "metadata": {},
   "source": [
    "# Pregunta\n",
    "Fulano Merengano tiene que hacer un programa que le permita determinar el mayor de tres números ingresados considerando que éstos son diferentes entre sí. ¿Cuál es el diagrama de flujo que resuelve el problema?"
   ]
  },
  {
   "cell_type": "markdown",
   "metadata": {},
   "source": [
    "## Opción 1\n",
    "![opcion1_ej3](pictures/opcion1_ej3.png)\n",
    "\n",
    "## Opción 2\n",
    "![opcion2_ej3](pictures/opcion2_ej3.png)\n",
    "\n",
    "## Opción 3\n",
    "![opcion3_ej3](pictures/opcion3_ej3.png)\n",
    "\n",
    "## Opción 4\n",
    "![opcion4_ej3](pictures/opcion4_ej3.png)"
   ]
  },
  {
   "cell_type": "markdown",
   "metadata": {},
   "source": [
    "# Pregunta\n",
    "Karina Tanita tiene que hacer un programa que le permita leer la edad de 200 personas y determinar cuántas son mayores y menores de edad ¿Cuál es el diagrama de flujo que resuelve el problema?"
   ]
  },
  {
   "cell_type": "markdown",
   "metadata": {},
   "source": [
    "## Opción 1\n",
    "![opcion1_ej4](pictures/opcion1_ej4.png)\n",
    "\n",
    "## Opción 2\n",
    "![opcion2_ej4](pictures/opcion2_ej4.png)\n",
    "\n",
    "## Opción 3\n",
    "![opcion3_ej4](pictures/opcion3_ej4.png)\n",
    "\n",
    "## Opción 4\n",
    "![opcion4_ej4](pictures/opcion4_ej4.png)"
   ]
  }
 ],
 "metadata": {
  "kernelspec": {
   "display_name": "Python 3",
   "language": "python",
   "name": "python3"
  },
  "language_info": {
   "codemirror_mode": {
    "name": "ipython",
    "version": 3
   },
   "file_extension": ".py",
   "mimetype": "text/x-python",
   "name": "python",
   "nbconvert_exporter": "python",
   "pygments_lexer": "ipython3",
   "version": "3.8.5"
  }
 },
 "nbformat": 4,
 "nbformat_minor": 4
}
