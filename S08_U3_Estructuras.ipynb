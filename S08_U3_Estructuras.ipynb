{
 "cells": [
  {
   "cell_type": "markdown",
   "metadata": {},
   "source": [
    "![logoupemor](pictures/UPE_Firma_vert_morada-01.png)\n",
    "\n",
    "---"
   ]
  },
  {
   "cell_type": "markdown",
   "metadata": {},
   "source": [
    "# Lógica de programación\n",
    "## Curso de Selección 2020\n",
    "\n",
    "### Profr. Jesús Emmanuel Solís Pérez (jsolis@upemor.edu.mx)\n",
    "---"
   ]
  },
  {
   "cell_type": "markdown",
   "metadata": {},
   "source": [
    "# Unidad III. Estructuras de control\n",
    "\n",
    "\n",
    "## Contenido\n",
    "- Estructuras de repetición\n",
    "- Pseudocódigo y diagrama de flujo"
   ]
  },
  {
   "cell_type": "markdown",
   "metadata": {},
   "source": [
    "## Repetitivas\n",
    "\n",
    "Este tipo de estructuras nos pueden ayudar a realizar lo siguiente:\n",
    "\n",
    "* Repetir $n$ veces un bloque de instrucciones\n",
    "* Generar valores entre dos intervalos\n",
    "* Recorrer arreglos y arreglos de arreglos\n",
    "\n",
    "### La sentencia de repetición `for`\n",
    "\n",
    "El ciclo `for` requiere de tres elementos: un valor inicial, un valor final y un incremento/decremento. Además, estos elementos deben estar entre una función llamada `range`, _i.e._\n",
    "\n",
    "~~~\n",
    "for k in range(6):\n",
    "    sentencias\n",
    "~~~\n",
    "\n",
    "#### Consideraciones\n",
    "\n",
    "1. `range(6)` no toma los valores de 0 a 6, sino los valores de 0 a 5.\n",
    "2. `range(6)` establece por defecto 0 como valor inicial. Sin embargo, es posible especificar el valor inicial agregando un parámetro adicional. Esto es `range(0,6)` que se traduce como valores de 2 a 6 sin incluir el 6.\n",
    "3. `range( )` por defecto incrementa la secuencia en 1. No obstante, es posible especificar el valor de incremento agregando un tercer parámetro: `range(2, 30, 3)`\n",
    "\n",
    "#### Ejemplo\n",
    "Diseñe un programa en lenguaje C que muestre en pantalla los números del 0 al 9. Para ello definimos una variable de control de tipo `int`."
   ]
  },
  {
   "cell_type": "markdown",
   "metadata": {},
   "source": [
    "### La sentencia de repetición `while`\n",
    "\n",
    "Realiza las mismas acciones que un `for` siempre y cuando estén presentes los tres componentes esenciales:\n",
    "\n",
    "~~~\n",
    "inicializacion\n",
    "while(condicion_de_paro):\n",
    "    sentencias\n",
    "    incremento/decremento\n",
    "~~~\n",
    "\n",
    "pero también lo podemos encontrar en su forma más sencilla, por ejemplo:\n",
    "\n",
    "~~~\n",
    "while(condicion_de_paro):\n",
    "    sentencias\n",
    "~~~\n",
    "\n",
    "#### Ejemplo\n",
    "\n",
    "Diseñe un programa que permita calcular el producto de dos números dados $a$ y $b$ mediante sumas sucesivas (***ss***).\n",
    "\n",
    "Por ejemplo, si $a=3$, $b=4$ entonces $a*b = 12$ lo podemos resolver mediante ***ss*** de la siguiente manera:\n",
    "\n",
    "$3+3+3+3$ o bien $4+4+4$. Es decir, la variable $a$ puede ser sumada $b$ veces o viceversa."
   ]
  },
  {
   "cell_type": "markdown",
   "metadata": {},
   "source": [
    "# Ejercicios \n",
    "\n",
    "1. Diseñe un programa que muestre la tabla ASCII desde el código numérico 32 hasta el 126. En la tabla se debe mostrar el códigos ASCII, además de su representación en caracter _i.e._\n",
    "\n",
    "~~~\n",
    "+---------+----------+\n",
    "| Decimal | Carácter |\n",
    "+---------+----------+\n",
    "|      32 |          |\n",
    "|      33 |        ! |\n",
    "|      34 |        \" |\n",
    "|      35 |        # |\n",
    "|      36 |        $ |\n",
    "|      37 |        % |\n",
    "       ... ...\n",
    "| 124     |        | |\n",
    "| 125     |        } |\n",
    "| 126     |        ~ |\n",
    "+---------+----------+\n",
    "~~~\n",
    "\n",
    "2. Diseñe un programa que pida al usuario un número entero $n$ y muestre su factorial.\n",
    "\n",
    "$ 3! = 6 \\rightarrow 3! = 3*2*1$\n",
    "\n",
    "$ 4! \\rightarrow 4! = 4*3*2*1$\n",
    "\n",
    "$ 5! \\rightarrow 5! = 5*4*3*2*1$\n",
    "\n",
    "$ 6! \\rightarrow 6! = 6*5*4*3*2*1$\n",
    "\n",
    "$ 7! \\rightarrow 7! = (7-0)*(7-1)*(7-2)*(7-3)*(7-4)*(7-5)*(7-6)$\n",
    "\n",
    "$ n! \\rightarrow n! = (n-0)*(n-1)*(n-2)*(n-3)*(n-4)*(n-5)*(n-6)*\\cdots$\n",
    "\n",
    "3. Diseñe un programa en C que pida al usuario un número entero $n$ y diga si es éste par o impar.\n",
    "\n",
    "**Pistas.**\n",
    "\n",
    "    * Utilizar el operador módulo (%)\n",
    "    * Módulo (%) realiza la división entre dos números ENTEROS\n",
    "    * Devuelve el residuo de la división ENTERO\n",
    "\n",
    "4. Diseñe un programa que lea dos números enteros $a$ y $b$ y muestre en pantalla el mensaje que esté acorde a su evaluación:\n",
    "    * El segundo es el cuadrado exacto del primero.\n",
    "    * El segundo es menor que el cuadrado del primero.\n",
    "    * El segundo es mayor que el cuadrado del primero."
   ]
  },
  {
   "cell_type": "markdown",
   "metadata": {},
   "source": [
    "## Videos complementarios\n",
    "1. "
   ]
  },
  {
   "cell_type": "markdown",
   "metadata": {},
   "source": [
    "# Material de consulta\n",
    "\n",
    "1. \n",
    "2. "
   ]
  }
 ],
 "metadata": {
  "kernelspec": {
   "display_name": "Python 3",
   "language": "python",
   "name": "python3"
  },
  "language_info": {
   "codemirror_mode": {
    "name": "ipython",
    "version": 3
   },
   "file_extension": ".py",
   "mimetype": "text/x-python",
   "name": "python",
   "nbconvert_exporter": "python",
   "pygments_lexer": "ipython3",
   "version": "3.8.5"
  }
 },
 "nbformat": 4,
 "nbformat_minor": 4
}
