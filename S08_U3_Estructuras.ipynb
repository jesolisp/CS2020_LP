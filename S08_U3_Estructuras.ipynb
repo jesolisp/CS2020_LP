{
 "cells": [
  {
   "cell_type": "markdown",
   "metadata": {},
   "source": [
    "![logoupemor](pictures/UPE_Firma_vert_morada-01.png)\n",
    "\n",
    "---"
   ]
  },
  {
   "cell_type": "markdown",
   "metadata": {},
   "source": [
    "# Lógica de programación\n",
    "## Curso de Selección 2020\n",
    "\n",
    "### Profr. Jesús Emmanuel Solís Pérez (jsolis@upemor.edu.mx)\n",
    "---"
   ]
  },
  {
   "cell_type": "markdown",
   "metadata": {},
   "source": [
    "# Unidad III. Estructuras de control\n",
    "\n",
    "\n",
    "## Contenido\n",
    "- Estructuras de repetición\n",
    "- Pseudocódigo y diagrama de flujo"
   ]
  },
  {
   "cell_type": "markdown",
   "metadata": {},
   "source": [
    "## Repetitivas\n",
    "\n",
    "Este tipo de estructuras nos pueden ayudar a realizar lo siguiente:\n",
    "\n",
    "* Repetir $n$ veces un bloque de instrucciones\n",
    "* Generar valores entre dos intervalos\n",
    "* Recorrer arreglos y arreglos de arreglos\n",
    "\n",
    "### La sentencia de repetición `for`\n",
    "\n",
    "El ciclo `for` requiere de tres elementos: un valor inicial, un valor final (condición de paro) y un incremento/decremento. Además, estos elementos deben estar entre una función llamada `range`, _i.e._\n",
    "\n",
    "~~~\n",
    "for k in range(6):\n",
    "    sentencias\n",
    "~~~\n",
    "\n",
    "#### Representación en diagrama de flujo\n",
    "\n",
    "![bucle](pictures/bucle.png)\n",
    "\n",
    "#### Consideraciones\n",
    "\n",
    "1. `range(6)` no toma los valores de 0 a 6, sino los valores de 0 a 5.\n",
    "2. `range(6)` establece por defecto 0 como valor inicial. Sin embargo, es posible especificar el valor inicial agregando un parámetro adicional. Esto es `range(2,6)` que se traduce como valores de 2 a 6 sin incluir el 6.\n",
    "3. `range( )` por defecto incrementa la secuencia en 1. No obstante, es posible especificar el valor de incremento agregando un tercer parámetro: `range(2, 30, 3)`"
   ]
  },
  {
   "cell_type": "markdown",
   "metadata": {},
   "source": [
    "## Ejemplo 1\n",
    "Diseñe un programa que muestre en pantalla los números del 0 al 9.\n",
    "\n",
    "1. **Entradas.** No hay \n",
    "2. **Proceso.** Números del 0 al 9.\n",
    "3. **Salida.** Mostrar esos números generados."
   ]
  },
  {
   "cell_type": "markdown",
   "metadata": {},
   "source": [
    "## Diagrama de flujo\n",
    "![ejercicio_for1](pictures/ejercicio_for1.png)"
   ]
  },
  {
   "cell_type": "markdown",
   "metadata": {},
   "source": [
    "## Pseudocódigo\n",
    "~~~\n",
    "for x in range(0,10):\n",
    "    print(x)\n",
    "~~~"
   ]
  },
  {
   "cell_type": "markdown",
   "metadata": {},
   "source": [
    "## Algoritmo\n",
    "1. Inicializa `x=0`\n",
    "2. `for x<10` sino ir al paso `3`\n",
    "    * Mostrar `x`\n",
    "    * x = x + 1\n",
    "    * Regresar al paso `2`\n",
    "3. Fin del programa"
   ]
  },
  {
   "cell_type": "markdown",
   "metadata": {},
   "source": [
    "## Ejemplo 2\n",
    "\n",
    "Diseñe un programa que le permita leer $n$ calificaciones y muestre la media aritmética a partir de la siguiente ecuación\n",
    "\n",
    "$$\n",
    " \\bar{x} = \\frac{1}{n}\\sum_{k=1}^{n} x_{k},\n",
    "$$\n",
    "\n",
    "$$\n",
    " \\bar{x} = \\frac{1}{n} \\left[ x_{1} + x_{2} + x_{3} + \\dots + x_{n} \\right]\n",
    "$$\n",
    "\n",
    "### Anotaciones\n",
    "1. Tengo:\n",
    "    * **Valor inicial.** `k = 1`\n",
    "    * **Valor final.** `k <= n`\n",
    "    * **Incremento.** `k = k + 1`\n",
    "    \n",
    "    puedo utilizar una estructura de control repetitiva tipo `for`.\n",
    "\n",
    "2. Tengo una variable `x` que denota la calificación.\n",
    "3. Sé que voy a tener `n` calificaciones.\n",
    "4. Necesito definir una variable bajo el concepto de **acumulador** para almacenar la suma de las `n` calificaciones."
   ]
  },
  {
   "cell_type": "markdown",
   "metadata": {},
   "source": [
    "* **Entradas.** x (calificaciones), n (número de calificaciones) \n",
    "* **Proceso.** Cálculo de la media\n",
    "* **Salida.** Mostrar la media"
   ]
  },
  {
   "cell_type": "markdown",
   "metadata": {},
   "source": [
    "## Diagrama de flujo\n",
    "![ejercicio_for2](pictures/ejercicio_for2.png)"
   ]
  },
  {
   "cell_type": "markdown",
   "metadata": {},
   "source": [
    "## Pseudocódigo\n",
    "~~~\n",
    "n = 100\n",
    "media = 0\n",
    "\n",
    "for k in range(1,n):\n",
    "    x = input(\"Ingrese calificacion\")\n",
    "    media = media + x\n",
    "    \n",
    "media = media/n\n",
    "print(media)\n",
    "~~~"
   ]
  },
  {
   "cell_type": "markdown",
   "metadata": {},
   "source": [
    "### La sentencia de repetición `while`\n",
    "\n",
    "Realiza las mismas acciones que un `for` siempre y cuando estén presentes los tres componentes esenciales:\n",
    "\n",
    "~~~\n",
    "inicializacion\n",
    "while(condicion_de_paro):\n",
    "    sentencias\n",
    "    incremento/decremento\n",
    "~~~\n",
    "\n",
    "pero también lo podemos encontrar en su forma más sencilla, por ejemplo:\n",
    "\n",
    "~~~\n",
    "while(condicion_de_paro):\n",
    "    sentencias\n",
    "~~~\n",
    "\n",
    "#### Representación en diagrama de flujo\n",
    "\n",
    "![bucle](pictures/bucle.png)\n",
    "\n",
    "#### Ejemplo\n",
    "\n",
    "Diseñe un programa que permita calcular el producto de dos números dados $a$ y $b$ mediante sumas sucesivas (***ss***).\n",
    "\n",
    "Por ejemplo, si $a=3$, $b=4$ entonces $a*b = 12$ lo podemos resolver mediante ***ss*** de la siguiente manera:\n",
    "\n",
    "$3+3+3+3$ o bien $4+4+4$. Es decir, la variable $a$ puede ser sumada $b$ veces o viceversa."
   ]
  },
  {
   "cell_type": "markdown",
   "metadata": {},
   "source": [
    "# Diagrama de flujo\n",
    "\n",
    "* **Entradas.** `a, b`\n",
    "* **Proceso.** Sumar `a` `b` veces\n",
    "    * Realizar (+)\n",
    "        * Acumulador\n",
    "    * Repetir la (+) `b` veces\n",
    "        * Estructura repetitiva (condicion de paro, incremento, valor inicial) $\\rightarrow$ (c<=b, c = c + 1, c =0)\n",
    "* **Salida.** El resultado de la suma (Producto)"
   ]
  },
  {
   "cell_type": "markdown",
   "metadata": {},
   "source": [
    "![solucion_ss](pictures/solucion_ss.png)"
   ]
  },
  {
   "cell_type": "markdown",
   "metadata": {},
   "source": [
    "# Pseudocódigo\n",
    "\n",
    "~~~\n",
    "a = \n",
    "b =\n",
    "\n",
    "suma = 0\n",
    "c = 0\n",
    "\n",
    "while(c<b):\n",
    "    suma = suma + a\n",
    "    c = c + 1\n",
    "    \n",
    "print(suma)\n",
    "\n",
    "~~~"
   ]
  },
  {
   "cell_type": "markdown",
   "metadata": {},
   "source": [
    "# Ejercicios \n",
    "\n",
    "1. Diseñe un programa que muestre la tabla ASCII desde el código numérico 32 hasta el 126. En la tabla se debe mostrar el códigos ASCII, además de su representación en caracter _i.e._\n",
    "\n",
    "~~~\n",
    "+---------+----------+\n",
    "| Decimal | Carácter |\n",
    "+---------+----------+\n",
    "|      32 |          |\n",
    "|      33 |        ! |\n",
    "|      34 |        \" |\n",
    "|      35 |        # |\n",
    "|      36 |        $ |\n",
    "|      37 |        % |\n",
    "       ... ...\n",
    "| 124     |        | |\n",
    "| 125     |        } |\n",
    "| 126     |        ~ |\n",
    "+---------+----------+\n",
    "~~~"
   ]
  },
  {
   "cell_type": "markdown",
   "metadata": {},
   "source": [
    "# Ejercicio 2. Diseñe un programa que pida al usuario un número entero $n$ y muestre su factorial.\n",
    "\n",
    "$ 3! = 6 \\rightarrow 3! = 3*2*1$\n",
    "\n",
    "$ 4! \\rightarrow 4! = 4*3*2*1$\n",
    "\n",
    "$ 5! \\rightarrow 5! = 5*4*3*2*1$\n",
    "\n",
    "$ 6! \\rightarrow 6! = 6*5*4*3*2*1$\n",
    "\n",
    "$ 7! \\rightarrow 7! = (7-0)*(7-1)*(7-2)*(7-3)*(7-4)*(7-5)*(7-6)$\n",
    "\n",
    "$ n! \\rightarrow n! = (n-0)*(n-1)*(n-2)*(n-3)*(n-4)*(n-5)*(n-6)*\\cdots$\n",
    "\n",
    "* **Entradas.** `n`\n",
    "* **Proceso.** `(n-0)*(n-1)*...`\n",
    "* **Salidas.** `factorial`\n",
    "\n",
    "## Pseudocódigo\n",
    "~~~\n",
    "n = 0\n",
    "\n",
    "x = 0\n",
    "\n",
    "factorial = 1\n",
    "\n",
    "while(x < n-1):\n",
    "    factorial = factorial*(n-x)\n",
    "    x = x + 1\n",
    "    \n",
    "print(factorial)\n",
    "~~~\n"
   ]
  },
  {
   "cell_type": "code",
   "execution_count": 3,
   "metadata": {},
   "outputs": [
    {
     "name": "stdout",
     "output_type": "stream",
     "text": [
      "1\n"
     ]
    }
   ],
   "source": [
    "n = 0\n",
    "\n",
    "x = 0\n",
    "\n",
    "factorial = 1\n",
    "\n",
    "while(x < n-1):\n",
    "    factorial = factorial*(n-x)\n",
    "    x = x + 1\n",
    "    \n",
    "print(factorial)"
   ]
  },
  {
   "cell_type": "markdown",
   "metadata": {},
   "source": [
    "# Ejercicio 1\n",
    "## Pseudocódigo\n",
    "\n",
    "~~~\n",
    "car = 32\n",
    "\n",
    "print(+---------+----------+)\n",
    "print(| Decimal | Carácter |)\n",
    "print(+---------+----------+)\n",
    "\n",
    "while(car<127):\n",
    "    print(\"|\" car \"|\" car \"|\")\n",
    "    car = car + 1\n",
    "~~~"
   ]
  },
  {
   "cell_type": "markdown",
   "metadata": {},
   "source": [
    "## Videos complementarios\n",
    "1. [Estructuras repetitivas, ciclo while](https://www.youtube.com/watch?v=cywlsnPyJJE)\n",
    "2. [Estructuras repetitivas](https://www.youtube.com/watch?v=nn2E8IRzUVc)"
   ]
  },
  {
   "cell_type": "markdown",
   "metadata": {},
   "source": [
    "# Material de consulta\n",
    "\n",
    "1. Sandoval, A. B. (2002). Introduccion a la programacion con python. *Pontificia Universidad Bolivariana*.\n",
    "2. Wachenchauzer, R., Manterola, M., Curia, M., Medrano, M., & Paez, N. (2011). Algoritmos y Programación con lenguaje Python."
   ]
  }
 ],
 "metadata": {
  "kernelspec": {
   "display_name": "Python 3",
   "language": "python",
   "name": "python3"
  },
  "language_info": {
   "codemirror_mode": {
    "name": "ipython",
    "version": 3
   },
   "file_extension": ".py",
   "mimetype": "text/x-python",
   "name": "python",
   "nbconvert_exporter": "python",
   "pygments_lexer": "ipython3",
   "version": "3.8.5"
  }
 },
 "nbformat": 4,
 "nbformat_minor": 4
}
