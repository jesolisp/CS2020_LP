{
 "cells": [
  {
   "cell_type": "markdown",
   "metadata": {},
   "source": [
    "![logoupemor](pictures/UPE_Firma_vert_morada-01.png)\n",
    "\n",
    "---"
   ]
  },
  {
   "cell_type": "markdown",
   "metadata": {},
   "source": [
    "# Lógica de programación\n",
    "## Curso de Selección 2020\n",
    "\n",
    "### Profr. Jesús Emmanuel Solís Pérez (jsolis@upemor.edu.mx)\n",
    "---"
   ]
  },
  {
   "cell_type": "markdown",
   "metadata": {},
   "source": [
    "# Unidad II. Algoritmos y diagramas de flujo secuenciales\n",
    "\n",
    "\n",
    "## Contenido\n",
    "- Diagramas de flujo\n",
    "- Introducción a las estructuras"
   ]
  },
  {
   "cell_type": "markdown",
   "metadata": {},
   "source": [
    "### Recordando\n",
    "\n",
    "**Algoritmo.** Conjunto finito de instrucciones que permiten resolver un problema.\n",
    "\n",
    "Se componen de los siguientes elementos:\n",
    "\n",
    "1. **Entrada.** Los datos con los que contará el algoritmo antes de ejecutarse.\n",
    "2. **Proceso.** Acciones que va a realizar el algoritmo.\n",
    "3. **Salida.** Datos que se obtienen por el algoritmo.\n",
    "\n",
    "y las fases en la creación de algoritmos son:\n",
    "\n",
    "1. **Análisis.** El problema se divide en pequeños problemas y nos preguntamos el **¿Qué?**\n",
    "2. **Diseño.** Se elabora el algoritmo.\n",
    "3. **Prueba.** Se comprueba el resultado."
   ]
  },
  {
   "cell_type": "markdown",
   "metadata": {},
   "source": [
    "## Diagramas de flujo\n",
    "1. Definición"
   ]
  },
  {
   "cell_type": "markdown",
   "metadata": {},
   "source": [
    "### Elementos del diagrama de flujo\n",
    "\n",
    "![diagrama_flujo](pictures/diagrama_flujo.jpg)"
   ]
  },
  {
   "cell_type": "markdown",
   "metadata": {},
   "source": [
    "#### Diagrama de Nassi Schneiderman"
   ]
  },
  {
   "cell_type": "markdown",
   "metadata": {},
   "source": [
    "### Ejercicios\n",
    "1. Diseñe un algoritmo y el diagrama de flujo que permita mostrar la suma de dos números $a$ y $b$.\n",
    "2. Diseñe un algoritmo y el diagrama de flujo que permita calcular el área y el perímetro de un triángulo conociendo los tres lados.\n",
    "3. Diseñe un algoritmo y el diagrama de flujo que permita pedir 5 estaturas y muestre la media de ellas."
   ]
  },
  {
   "cell_type": "markdown",
   "metadata": {},
   "source": [
    "## Ejercicio 1\n",
    "\n",
    "Vamos a aplicar la metodología de las 6D\n",
    "\n",
    "### 1. Descripción del problema\n",
    "Mostrar la suma de dos números $a$ y $b$. Además, identifico cuáles son mis entradas y cuáles van a ser mis salidas. Por lo tanto:\n",
    "\n",
    "* **Entradas.** $a$ y $b$\n",
    "* **Salidas.** suma\n",
    "\n",
    "### 2. Definición de la solución\n",
    "Realizar la suma de dos variables $a$ y $b$ de tipo numéricas. Es decir, suma = a + b\n",
    "\n",
    "### 3. Diseño de la solución\n",
    "* Leer las variables $a$ y $b$\n",
    "* Calcular la suma de $a$ más $b$\n",
    "* Mostrar la suma de $a$ más $b$\n",
    "\n",
    "Para resolverlo, hacemos uso de un **algoritmo**. Entonces\n",
    "\n",
    "1. Mostrar el mensaje \"Suma de dos números\"\n",
    "2. Pedir el valor de la variable $a=3.51$\n",
    "3. Pedir el valor de la variable $b=3$\n",
    "4. Realiza la suma de $a$ más $b$ y el resultado lo asigna a una variable llamada **suma=**.\n",
    "5. Mostrar el resultado de la suma\n",
    "\n",
    "Solución mediante **diagrama de flujo**\n",
    "\n",
    "![problema1](pictures/problema1.png)\n",
    "\n",
    "## Posteriormente se realizarán ...\n",
    "\n",
    "### 4. Desarrollo de la solución\n",
    "\n",
    "### 5. Depuración y pruebas\n",
    "\n",
    "### 6. Documentación"
   ]
  },
  {
   "cell_type": "markdown",
   "metadata": {},
   "source": [
    "## Ejercicio 3. Diseñe un algoritmo y el diagrama de flujo que permita pedir 5 estaturas y muestre la media de ellas."
   ]
  },
  {
   "cell_type": "markdown",
   "metadata": {},
   "source": [
    "### 1. Descripción del problema\n",
    "\n",
    "Mostrar la estatura media dadas 5 estaturas\n",
    "\n",
    "* **Entradas.** $n_{1},n_{2},\\dots,n_{5}$\n",
    "* **Salida.** media\n",
    "\n",
    "### 2. Definición de la solución\n",
    "\n",
    "Calcular la media de 5 estaturas. \n",
    "\n",
    "$$\n",
    " media = \\frac{1}{5}\\left[n_{1} + n_{2} + \\dots +n_{5}\\right]\n",
    "$$\n",
    "\n",
    "### 3. Diseño de la solución\n",
    "\n",
    "* Leer las estaturas $n_{1},n_{2},\\dots,n_{5}$\n",
    "* Calculo la media $media = \\frac{1}{5}\\left[n_{1} + n_{2} + \\dots +n_{5}\\right]$\n",
    "* Muestro la media de las estaturas\n",
    "\n",
    "Planteamos la solución del problema mediante un algoritmo\n",
    "\n",
    "1. Pedir el valor de $n_{1}$\n",
    "2. Pedir el valor de $n_{2}$\n",
    "3. Pedir el valor de $n_{3}$\n",
    "4. Pedir el valor de $n_{4}$\n",
    "5. Pedir el valor de $n_{5}$\n",
    "6. Declarar una variable **suma** de tipo numérica\n",
    "7. Declarar una variable **media** de tipo numérica\n",
    "8. Realizar $suma = n_{1} + n_{2} + \\dots +n_{5}$\n",
    "9. Realizar $media = suma/5$.\n",
    "10. Mostrar **media**"
   ]
  },
  {
   "cell_type": "markdown",
   "metadata": {},
   "source": [
    "## Videos complementarios\n",
    "1. [Diagramas de flujo (Simbología y Construcción)](https://www.youtube.com/watch?v=qDttSc3RQBc)\n",
    "2. [¿Qué es un algoritmo?](https://www.youtube.com/watch?v=Tu9OQSff-gw)\n",
    "3. [¿Cómo hacer un sandwich?, instrucciones precisas](https://www.youtube.com/watch?v=Er0HBLMNkTA)"
   ]
  }
 ],
 "metadata": {
  "kernelspec": {
   "display_name": "Python 3",
   "language": "python",
   "name": "python3"
  },
  "language_info": {
   "codemirror_mode": {
    "name": "ipython",
    "version": 3
   },
   "file_extension": ".py",
   "mimetype": "text/x-python",
   "name": "python",
   "nbconvert_exporter": "python",
   "pygments_lexer": "ipython3",
   "version": "3.8.5"
  }
 },
 "nbformat": 4,
 "nbformat_minor": 4
}
