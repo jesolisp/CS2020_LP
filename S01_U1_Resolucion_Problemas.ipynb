{
 "cells": [
  {
   "cell_type": "markdown",
   "metadata": {},
   "source": [
    "![logoupemor](pictures/UPE_Firma_vert_morada-01.png)\n",
    "\n",
    "---"
   ]
  },
  {
   "cell_type": "markdown",
   "metadata": {},
   "source": [
    "# Lógica de programación\n",
    "## Curso de Selección 2020\n",
    "\n",
    "### Profr. Jesús Emmanuel Solís Pérez (jsolis@upemor.edu.mx)\n",
    "---"
   ]
  },
  {
   "cell_type": "markdown",
   "metadata": {},
   "source": [
    "# Unidad I. Resolución de problemas usando una computadora\n",
    "\n",
    "\n",
    "## Contenido\n",
    "- Conceptos básicos\n",
    "- Metodología para la solución de problemas"
   ]
  },
  {
   "cell_type": "markdown",
   "metadata": {},
   "source": [
    "## Computadora\n",
    "\n",
    "![computer_CPU](pictures/computer_CPU.jpg)\n",
    "\n",
    "Una computadora está definida como \"una máquina que almacena y manipula información bajo el control de un programa que puede cambiar\" (Wachenchauzer *et al.*, 2011).\n",
    "\n",
    "### La memoria RAM\n",
    "\n",
    "![salon_clases](pictures/salon_clases.jpg)\n",
    "\n",
    "### La CPU\n",
    "\n",
    "![chip_cerebro](pictures/chip_cerebro.png)\n",
    "\n",
    "\n",
    "## Programa\n",
    "\n",
    "Está definido como el conjunto de **instrucciones** que debe ejecutar una computadora para realizar una tarea. Estas instrucciones están definidas en un **lenguaje** de modo que la computadora pueda entenderlas.\n",
    "\n",
    "## Programación\n",
    "\n",
    "El arte de diseñar programas para computadoras.\n",
    "\n",
    "## Lenguaje\n",
    "\n",
    "Son instrucciones que utilizan palabras (**mnemónicos**) para darle a la computadora órdenes precisas. La característica de esos lenguajes es que no existe ambigüedad.\n",
    "\n",
    "![mnemonic](pictures/mnemonic.jpg)\n",
    "\n",
    "File:Knucklemnemonic.jpg. (2015, January 9). Wikimedia Commons, the free media repository. Retrieved 04:11, July 29, 2020 from https://commons.wikimedia.org/w/index.php?title=File:Knucklemnemonic.jpg&oldid=145830676.\n",
    "\n",
    "### Clasificación\n",
    "\n",
    "Aunque existen diferentes clasificaciones reportadas en la literatura, básicamente se clasifican por su nivel de **abstracción** y la forma en **cómo están definidas las instrucciones**.\n",
    "\n",
    "1. **Lenguaje máquina.** Es un lenguaje complejo ya que está definido en ceros (0) y unos (1).\n",
    "2. **Lenguaje ensamblador.** Utiliza mnemotécnicos para las instrucciones y las direcciones de memoria.\n",
    "3. **Lenguaje de alto nivel.** Aquellos donde una sola instrucción realiza varias instrucciones en lenguaje ensamblador.\n",
    "    * Ejemplos de estos lenguajes:\n",
    "        * PASCAL\n",
    "        * Basic\n",
    "        * Visual Basic\n",
    "        * **C**\n",
    "        * C++\n",
    "        * C#\n",
    "        * Java\n",
    "        \n",
    "~~~\n",
    "/* Lenguaje C */\n",
    "\n",
    "#include<stdio.h>\n",
    "\n",
    "int main(){\n",
    "    \n",
    "    printf(\"Hola mundo\");\n",
    "    \n",
    "    return 0;\n",
    "}\n",
    "~~~\n",
    "\n",
    "~~~\n",
    "# Python\n",
    "print(\"Hola mundo\")\n",
    "~~~\n",
    "\n",
    "~~~\n",
    "/* Java */\n",
    "import java.io.*;\n",
    "\n",
    "class test{\n",
    "    public static void main(String []afi){\n",
    "        System.out.println(\"Hola mundo\");\n",
    "    }\n",
    "}\n",
    "~~~\n",
    "\n",
    "~~~\n",
    " 01001000 01101111 01101100 01100001 00100000 01101101 01110101 01101110 01100100 01101111\n",
    "~~~\n",
    "\n",
    "## Instrucción\n",
    "\n",
    "5. f. *Inform*. En una computadora u otro dispositivo electrónico, expresión generalmente formada por números, letras y signos, que indica la operación que debe realizar.\n",
    "\n",
    "### Tipos de instrucción\n",
    "\n",
    "De forma general, los lenguajes manejan 6 tipos de instrucciones:\n",
    "\n",
    "1. **Entrada/Salida.** Son aquellas que nos permiten mostrar o ingresar información en una computadora.\n",
    "2. **Aritméticas.** Ejecutan operaciones como: suma, resta, multiplicación, división\n",
    "3. **Lógicas.** Aquellas instrucciones cuyo resultado de evaluación es **verdadero** o **falso**.\n",
    "4. **Selectivas.** Permite la bifurcación del flujo del programa.\n",
    "5. **Repetitivas.** Son aquellas que nos permiten repetir un bloque de instrucciones.\n",
    "6. **Almacenamiento/Consulta.** Nos permiten interactuar con los dispositivos para almacenar o consultar información.\n",
    "\n",
    "## Algoritmo\n",
    "\n",
    "Quizá del lat. tardío *algobarismus*, y este abrev. del ár. clás. *ḥisābu lḡubār* 'cálculo mediante cifras arábigas'.\n",
    "\n",
    "1. m. Conjunto ordenado y finito de operaciones que permite hallar la solución de un problema.\n",
    "2. m. Método y notación en las distintas formas del cálculo."
   ]
  },
  {
   "cell_type": "markdown",
   "metadata": {},
   "source": [
    "## Interpretadores y compiladores\n",
    "\n",
    "**Interpretadores.** Ejecutan instrucción por instrucción y las traducen a lenguaje máquina.\n",
    "\n",
    "**Compiladores.** Toman el código fuente y lo traducen a lenguaje máquina.\n",
    "\n",
    "La **diferencia** entre un interpretador y un compilador es que este último genera un objeto ejecutable."
   ]
  },
  {
   "cell_type": "markdown",
   "metadata": {},
   "source": [
    "#### Ejercicio de clase\n",
    "\n",
    "Analice el siguiente problema: ¿cómo podemos calcular $N^{33}$ dado un número $N$ cualquiera?\n",
    "\n",
    "1. ¿Programa o instrucción?\n",
    "2. Lenguaje\n",
    "    * Máquina\n",
    "    * Ensamblador\n",
    "    * Lenguaje de alto nivel\n",
    "3. ¿Intérprete o compilador?"
   ]
  },
  {
   "cell_type": "markdown",
   "metadata": {},
   "source": [
    "## Videos complementarios\n",
    "1. [¿Qué es un algoritmo?](https://www.youtube.com/watch?v=Tu9OQSff-gw)\n",
    "2. [Lenguajes de programación](https://www.youtube.com/watch?v=rRZI3kzPDV0)\n",
    "3. [Lenguajes de bajo nivel, alto y lenguaje máquina](https://www.youtube.com/watch?v=B0v54vo8-VI)"
   ]
  },
  {
   "cell_type": "markdown",
   "metadata": {},
   "source": [
    "# Referencias\n",
    "\n",
    "1. Wachenchauzer, R., Manterola, M., Curia, M., Medrano, M., & Paez, N. (2011). Algoritmos y Programación con lenguaje Python."
   ]
  }
 ],
 "metadata": {
  "kernelspec": {
   "display_name": "Python 3",
   "language": "python",
   "name": "python3"
  },
  "language_info": {
   "codemirror_mode": {
    "name": "ipython",
    "version": 3
   },
   "file_extension": ".py",
   "mimetype": "text/x-python",
   "name": "python",
   "nbconvert_exporter": "python",
   "pygments_lexer": "ipython3",
   "version": "3.8.5"
  }
 },
 "nbformat": 4,
 "nbformat_minor": 4
}
