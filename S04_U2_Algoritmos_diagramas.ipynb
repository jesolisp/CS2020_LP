{
 "cells": [
  {
   "cell_type": "markdown",
   "metadata": {},
   "source": [
    "![logoupemor](pictures/UPE_Firma_vert_morada-01.png)\n",
    "\n",
    "---"
   ]
  },
  {
   "cell_type": "markdown",
   "metadata": {},
   "source": [
    "# Lógica de programación\n",
    "## Curso de Selección 2020\n",
    "\n",
    "### Profr. Jesús Emmanuel Solís Pérez (jsolis@upemor.edu.mx)\n",
    "---"
   ]
  },
  {
   "cell_type": "markdown",
   "metadata": {},
   "source": [
    "# Unidad II. Algoritmos y diagramas de flujo secuenciales\n",
    "\n",
    "\n",
    "## Contenido\n",
    "- Introducción\n",
    "- Instrucciones"
   ]
  },
  {
   "cell_type": "markdown",
   "metadata": {},
   "source": [
    "## Introducción\n",
    "\n",
    "1. **Algoritmo**\n",
    "2. **Características**\n",
    "3. **Elementos**\n",
    "4. **Variables y constantes**\n",
    "\n",
    "En programación tenemos los conceptos **variable** y **constante**. Aunque en esencia son lo mismo, para diferenciarlas decimos que una **variable** es aquella que cambia su valor durante el tiempo de ejecución mientras que la **constante** no lo hace.\n",
    "\n",
    "¿Por qué en esencia es lo mismo? Porque una variable y una constante poseen lo mismo:\n",
    "\n",
    "* Espacio en memoria\n",
    "* Dirección de memoria\n",
    "\n",
    "\n",
    "5. **Tipos de datos**\n",
    "\n",
    "| TIPO DE DATO |        CONTIENE        |           EJEMPLO           |\n",
    "|:------------:|:----------------------:|:---------------------------:|\n",
    "| Numéricos    | Enteros, Decimales     | $10$, $3.1254$, $2.3E18$    |\n",
    "| Lógicos      | Booleanos              | Verdadero, Falso            |\n",
    "| Caracter     | Caracteres imprimibles | A, B, C, 0, 1, 2, 3         |\n",
    "| Cadena       | Conjunto de caracteres | \"Hola mundo\", \"Holi\", \"Bye\" |\n",
    "\n",
    "Expresiones\n",
    "\n",
    "Son combinaciones de constantes, variables, símbolos y operadores. Por ejemplo\n",
    "\n",
    "$$\n",
    " y = 3x^{2}  + 2x^{3} + 5x + 4\n",
    "$$\n",
    "\n",
    "``\n",
    " suma_total = suma_1 + suma_2\n",
    "``\n",
    "\n",
    "$$\n",
    " y = \\frac{-b\\pm \\sqrt{b^{2} - 4ac}}{2a}\n",
    "$$"
   ]
  },
  {
   "cell_type": "markdown",
   "metadata": {},
   "source": [
    "## Instrucciones\n",
    "\n",
    "1. Inicio y fin\n",
    "2. Asignación\n",
    "3. Lectura\n",
    "4. Escritura\n",
    "5. Expresiones\n",
    "    1. Aritméticas\n",
    "    2. Relacionales\n",
    "    3. Lógicas\n",
    "    4. De caracter"
   ]
  },
  {
   "cell_type": "markdown",
   "metadata": {},
   "source": [
    "## Ejercicios\n",
    "1. Diseñe un algoritmo que permita calcular el cuadrado de un número dado.\n",
    "2. \n"
   ]
  },
  {
   "cell_type": "markdown",
   "metadata": {},
   "source": [
    "## Videos complementarios\n",
    "1. "
   ]
  },
  {
   "cell_type": "markdown",
   "metadata": {},
   "source": [
    "# Material de consulta\n",
    "\n",
    "1. \n",
    "2. "
   ]
  }
 ],
 "metadata": {
  "kernelspec": {
   "display_name": "Maxima",
   "language": "maxima",
   "name": "maxima"
  },
  "language_info": {
   "codemirror_mode": "maxima",
   "file_extension": ".mac",
   "mimetype": "text/x-maxima",
   "name": "maxima",
   "pygments_lexer": "maxima",
   "version": "5.44.0"
  }
 },
 "nbformat": 4,
 "nbformat_minor": 4
}
