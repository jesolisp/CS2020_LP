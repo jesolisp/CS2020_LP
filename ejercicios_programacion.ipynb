{
 "cells": [
  {
   "cell_type": "markdown",
   "metadata": {},
   "source": [
    "---\n",
    "# Evidencia de Desempeño\n",
    "\n",
    "En equipo, los estudiantes resuelven los siguientes problemas\n",
    "\n",
    "1. La maestra Nova tiene que hacer un programa que le permita leer la edad de $n$ personas y determinar cuántas son mayores, menores de edad, la media de los mayores y la media de los menores ¿Cuál es el pseudocódigo que permite resolver este problema?. (30pts)\n",
    "\n",
    "2. Diseñe el pseudocódigo que le permita resolver el siguiente problema: Scarlett Johanson debe diseñar un programa que le permita ingresar 10 letras cualquiera e indicar al final cuántas vocales (a,e,i,o,u) y consonantes se ingresaron. (30 pts)\n",
    "\n",
    "3. Peter Parker, estudiante del curso propedéutico de lógica de programación, tiene que realizar un programa que le permita calcular los $n$ términos de la serie de Fibonacci. Diseñe el pseudocódigo que le permita resolver su problema. (40pts)\n",
    "\n",
    "$$\n",
    " 0,1,1,2,3,5,8,13,21,34,55,...,n\n",
    "$$"
   ]
  },
  {
   "cell_type": "markdown",
   "metadata": {},
   "source": [
    "# Ejercicios 6 Nov 2020\n",
    "\n",
    "1. Diseñe un programa que lea los coeficientes de un polinomio de segundo grado $ax^{2}+bx+c=0$ y calcule las raíces del mismo (reales o complejas).El programa debe responder de forma adecuada en los distintos casos en que el polinomio sea de grado inferior a dos\n",
    "2. Diseñe un programa que lea los coeficientes de un sistema de dos ecuaciones con dos incógnitas y lo resuelva\n",
    "\n",
    "$$\n",
    " \\begin{aligned}\n",
    "  ax + by &= c \\\\\n",
    "  dx + ey &= f\n",
    " \\end{aligned}\n",
    "$$\n",
    "    El programa debe responder de forma adecuada cuando el sistema no sea compatible determinado.\n",
    "3. Diseñe un programa para calcular la suma de los 100 primeros términos de la sucesión:\n",
    "$$\n",
    " a_{n} = (-1)^{n}\\frac{n^{2}-1}{2n+1}\n",
    "$$\n",
    "\n",
    "4. Realize un programa para calcular los valores de la función\n",
    "\n",
    "$$\n",
    " f(x,y) = \\frac{\\sqrt{x}}{y^{2} - 1}\n",
    "$$\n",
    "    para los valores de $(x,y)$ con $x=-50,-48,\\dots,48,50$ e $y=-40,-39,\\dots,39,40$.\n",
    "\n",
    "5. Lea números enteros por teclado hasta que se introduzcan 10 o hasta que se introduzca un número negativo. Muestre su media aritmética.\n",
    "\n",
    "6. Diseñe un programa para jugar a adivinar un número entre 0 y 100. El juego tiene que dar pistas de si el número introducido por el jugador está por encima o por debajo. El juego termina cuando se adivina el número o se decide terminar de jugar (por ejemplo al teclear un número negativo).\n",
    "\n",
    "7. Realice el mismo ejercicio de antes pero permitiendo jugar tantas veces como lo desee el jugador."
   ]
  }
 ],
 "metadata": {
  "kernelspec": {
   "display_name": "Python 3",
   "language": "python",
   "name": "python3"
  },
  "language_info": {
   "codemirror_mode": {
    "name": "ipython",
    "version": 3
   },
   "file_extension": ".py",
   "mimetype": "text/x-python",
   "name": "python",
   "nbconvert_exporter": "python",
   "pygments_lexer": "ipython3",
   "version": "3.8.6"
  }
 },
 "nbformat": 4,
 "nbformat_minor": 4
}
